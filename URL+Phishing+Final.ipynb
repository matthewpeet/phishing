{
 "cells": [
  {
   "cell_type": "code",
   "execution_count": null,
   "metadata": {
    "collapsed": true
   },
   "outputs": [],
   "source": [
    "import pandas as pd\n",
    "import numpy as np\n",
    "import sklearn \n",
    "from sklearn.linear_model import LogisticRegression, LogisticRegressionCV\n",
    "from sklearn.model_selection import train_test_split, cross_val_score\n",
    "import matplotlib.pyplot as plt\n",
    "import whois\n",
    "import datetime\n",
    "import time\n",
    "import httplib2\n",
    "import urllib\n",
    "import re\n",
    "from urllib.request import urlopen\n",
    "from bs4 import BeautifulSoup\n",
    "import requests"
   ]
  },
  {
   "cell_type": "code",
   "execution_count": null,
   "metadata": {
    "collapsed": true
   },
   "outputs": [],
   "source": [
    "df = pd.read_csv(r'C:\\Users\\Matt\\Downloads\\URL_data.csv')"
   ]
  },
  {
   "cell_type": "code",
   "execution_count": null,
   "metadata": {
    "collapsed": true
   },
   "outputs": [],
   "source": [
    "#https in domain name section\n",
    "df['https_in_domain'] = df.loc['/https'] = 1.0 if '/https' in df['url'] else 0.0\n",
    "#may be better applying this to just the domain name section if we split on that\n",
    "#and then taking the / out of '/https'"
   ]
  },
  {
   "cell_type": "code",
   "execution_count": null,
   "metadata": {
    "collapsed": true
   },
   "outputs": [],
   "source": [
    "#Gets full html code of the webpage and stores to new column, html_code\n",
    "for row_idx, row in df.iterrows():\n",
    "    try:\n",
    "        page = urllib.request.urlopen(row['url'])\n",
    "        soup = BeautifulSoup(page)\n",
    "        df.loc[row_idx, 'html_code'] = str(soup)\n",
    "    except:\n",
    "        df.loc[row_idx, 'html_code'] = \"Error\""
   ]
  },
  {
   "cell_type": "code",
   "execution_count": null,
   "metadata": {
    "collapsed": true
   },
   "outputs": [],
   "source": [
    "# Gets <a> tags from html_code column and print to new column, anchors\n",
    "for row_idx, row in df.iterrows():\n",
    "    try:\n",
    "        soup = BeautifulSoup(row['html_code'])\n",
    "        df.loc[row_idx, 'anchors'] = str(soup.a)\n",
    "    except:\n",
    "        df.loc[row_idx, 'anchors'] = \"Error\"\n",
    "# Need to compare with domain and check for other discrepencies instead"
   ]
  },
  {
   "cell_type": "code",
   "execution_count": null,
   "metadata": {
    "collapsed": true
   },
   "outputs": [],
   "source": [
    "# Gets <form> tags from html_code column and print to new column, forms\n",
    "for row_idx, row in df.iterrows():\n",
    "    try:\n",
    "        soup = BeautifulSoup(row['html_code'])\n",
    "        df.loc[row_idx, 'forms'] = str(soup.find_all(\"form\"))\n",
    "    except:\n",
    "        df.loc[row_idx, 'forms'] = \"Error\""
   ]
  },
  {
   "cell_type": "code",
   "execution_count": null,
   "metadata": {
    "collapsed": true
   },
   "outputs": [],
   "source": [
    "# SFH has about:blank in form handler\n",
    "df['SFH_about:blank'] = df.loc['about:blank'] = 1.0 if 'about:blank' in df['forms'] else 0.0"
   ]
  },
  {
   "cell_type": "code",
   "execution_count": null,
   "metadata": {
    "collapsed": true
   },
   "outputs": [],
   "source": [
    "# Tries to submit to email in html code\n",
    "sus_lis = ['mail()','mailto:']\n",
    "for i in sus_list:\n",
    "    df['submit_to_email'] = df.loc[i]= 1.0 if i in df['html_code'] else 0.0\n",
    "#sub['submit_to_email2'] = sub.loc['mailto:'] = 1.0 if 'mailto:' in sub['html_code'] else 0.0"
   ]
  },
  {
   "cell_type": "code",
   "execution_count": null,
   "metadata": {
    "collapsed": true
   },
   "outputs": [],
   "source": [
    "# Check number of redirects\n",
    "for row_idx, row in df.iterrows():\n",
    "    try:\n",
    "        r = requests.get(row['url'])\n",
    "        df.loc[row_idx, 'redirects'] = r.history\n",
    "        if (len(r.history)) > 1:\n",
    "            df.loc[row_idx, 'redirect_suspicious'] = 1\n",
    "        else:\n",
    "            df.loc[row_idx, 'redirect_suspicious'] = 0\n",
    "    except:\n",
    "        df.loc[row_idx, 'redirects'] = \"Error\""
   ]
  },
  {
   "cell_type": "code",
   "execution_count": null,
   "metadata": {
    "collapsed": true
   },
   "outputs": [],
   "source": [
    "# Check for double click being disabled\n",
    "df['DoubleClickDisabled'] = df.loc['event.button==2'] = 1.0 if 'event.button==2' in df['html_code'] else 0.0"
   ]
  },
  {
   "cell_type": "code",
   "execution_count": null,
   "metadata": {
    "collapsed": true
   },
   "outputs": [],
   "source": [
    "# Check for onMouseOver\n",
    "for row_idx, row in df.iterrows():\n",
    "    try:\n",
    "        soup = BeautifulSoup(row['html_code'])\n",
    "        df.loc[row_idx, 'MouseOver'] = str(soup.find_all(onmouseover=True))\n",
    "    except:\n",
    "        df.loc[row_idx, 'MouseOver'] = \"None Found/Error\""
   ]
  },
  {
   "cell_type": "code",
   "execution_count": null,
   "metadata": {
    "collapsed": true
   },
   "outputs": [],
   "source": [
    "# Get favicon link \n",
    "for row_idx, row in sub.iterrows():\n",
    "    try:\n",
    "        page = urllib.request.urlopen(row['url'])\n",
    "        soup = BeautifulSoup(page)\n",
    "        icon_link = soup.find(\"link\", rel=\"shortcut icon\")\n",
    "        sub.loc[row_idx, 'fav_link'] = str(icon_link)\n",
    "    except:\n",
    "        sub.loc[row_idx, 'fav_link'] = \"Error\""
   ]
  },
  {
   "cell_type": "code",
   "execution_count": null,
   "metadata": {
    "collapsed": true
   },
   "outputs": [],
   "source": []
  },
  {
   "cell_type": "code",
   "execution_count": null,
   "metadata": {
    "collapsed": true
   },
   "outputs": [],
   "source": [
    "# Write to EXCEL file\n",
    "df.to_excel('***path.xlsx')"
   ]
  }
 ],
 "metadata": {
  "kernelspec": {
   "display_name": "Python 3",
   "language": "python",
   "name": "python3"
  },
  "language_info": {
   "codemirror_mode": {
    "name": "ipython",
    "version": 3
   },
   "file_extension": ".py",
   "mimetype": "text/x-python",
   "name": "python",
   "nbconvert_exporter": "python",
   "pygments_lexer": "ipython3",
   "version": "3.6.3"
  }
 },
 "nbformat": 4,
 "nbformat_minor": 2
}
